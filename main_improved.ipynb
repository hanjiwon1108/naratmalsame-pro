import pandas as pd
from tqdm import tqdm
import sys
import os
import time

# 작업 디렉토리에 utils.py와 score_calculator.py를 추가했다고 가정
sys.path.append("/Users/obt/gitRepos/trends")
from utils import GoogleTrendsHelper
from score_calculator import get_rounded_bonus

# 데이터 불러오기
df = pd.read_csv("survey.tsv", sep="\t", encoding='utf-8', header=0)

# 검색량과 가산점을 저장할 새 컬럼 추가
df['원어_검색량'] = 0
df['다듬은말_검색량'] = 0
df['검색량_비율'] = 0
df['검색량_가산점'] = 0

# Google Trends API 헬퍼 클래스 초기화
trends = GoogleTrendsHelper(hl='ko-KR', tz=540)

# 배치 처리를 위한 함수 (API 제한 고려)
def process_batch(df, start_idx, end_idx):
    for i in range(start_idx, min(end_idx, len(df))):
        original_term = df.iloc[i]['다듬을 말']
        refined_term = df.iloc[i]['다듬은 말']
        
        print(f"처리 중: {i+1}/{len(df)} - '{original_term}' vs '{refined_term}'")
        
        try:
            # 두 용어 비교
            original_volume, refined_volume = trends.compare_terms(original_term, refined_term)
            
            # 데이터프레임에 저장
            df.at[i, '원어_검색량'] = original_volume
            df.at[i, '다듬은말_검색량'] = refined_volume
            
            # 비율 계산 (0으로 나누기 방지)
            if original_volume > 0:
                ratio = refined_volume / original_volume
            else:
                ratio = float('inf') if refined_volume > 0 else 0
            
            df.at[i, '검색량_비율'] = ratio
            
            # 가산점 계산
            bonus = get_rounded_bonus(original_volume, refined_volume)
            df.at[i, '검색량_가산점'] = bonus
            
        except Exception as e:
            print(f"오류: {original_term} vs {refined_term} - {e}")
            continue
    
    # 중간 결과 저장
    df.to_csv(f"survey_trends_{start_idx}_{end_idx}.csv", index=False)
    return df

# 배치 크기 설정 (API 제한 고려)
batch_size = 10
total_items = len(df)

# 배치 처리
for start_idx in range(0, total_items, batch_size):
    end_idx = start_idx + batch_size
    print(f"배치 처리: {start_idx+1} ~ {min(end_idx, total_items)}")
    df = process_batch(df, start_idx, end_idx)
    
    # 배치 간 대기 시간
    if end_idx < total_items:
        print("API 제한 고려하여 60초 대기")
        time.sleep(60)

# 결과 저장
df.to_csv("survey_with_trends.csv", index=False)

# 결과 요약
print("\n가산점 분포:")
print(df['검색량_가산점'].value_counts().sort_index())

# 검색량 비율과 가산점 간의 관계 시각화
import matplotlib.pyplot as plt
import numpy as np

# 이상치 제거를 위해 비율이 10 이하인 데이터만 선택
plot_df = df[df['검색량_비율'] <= 10].copy()

plt.figure(figsize=(10, 6))
plt.scatter(plot_df['검색량_비율'], plot_df['검색량_가산점'], alpha=0.5)
plt.axhline(y=0, color='r', linestyle='-', alpha=0.3)
plt.axvline(x=1, color='r', linestyle='-', alpha=0.3)
plt.xlabel('다듬은말/원어 검색량 비율')
plt.ylabel('가산점')
plt.title('검색량 비율에 따른 가산점 분포')
plt.grid(True, alpha=0.3)
plt.savefig('bonus_distribution.png')
plt.show()
